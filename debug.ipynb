{
 "cells": [
  {
   "cell_type": "code",
   "execution_count": 1,
   "id": "add781c6-0f1d-426b-bfd1-a06c35ca63b7",
   "metadata": {},
   "outputs": [],
   "source": [
    "%load_ext autoreload\n",
    "%autoreload 2"
   ]
  },
  {
   "cell_type": "code",
   "execution_count": 2,
   "id": "5718d858-5806-4a8a-b734-93fea78f56c6",
   "metadata": {},
   "outputs": [],
   "source": [
    "import numpy as np\n",
    "import torch\n",
    "import torch.nn as nn\n",
    "import exp_utils\n",
    "import evaluation\n",
    "from evaluation import generate_ellipse_reference, generate_lemniscate_reference\n",
    "import script\n",
    "import flatness\n",
    "import simulate\n",
    "from dynamics import PlanarQuadDynamicsWithDrag, PlanarQuadDynamics\n",
    "import matplotlib.pyplot as plt"
   ]
  },
  {
   "cell_type": "code",
   "execution_count": 3,
   "id": "65f14331-cd19-43cc-9427-44f20aba99cf",
   "metadata": {},
   "outputs": [],
   "source": [
    "quad_params = {\n",
    "    'm_quad': 1.0,\n",
    "    'I_quad': 0.1,\n",
    "    'g': 9.81,\n",
    "    'F_max': 25.0,\n",
    "    'tau_max': 0.5,\n",
    "    'C_pd': [0.1, 0.1],  # Parasitic drag in (x, y) directions\n",
    "    'C_rdx': 1e-2\n",
    "}\n",
    "\n",
    "data_params = {\n",
    "    # 'num_samples': 5000,\n",
    "    # 'Tf': 0.3,\n",
    "    'num_samples': 5000,\n",
    "    'Tf': 0.3,\n",
    "    'x_min': torch.tensor([-1, -1, -0.5, -0.5, -0.05, -0.1]),\n",
    "    # 'u_range': (\n",
    "    #     torch.tensor((quad_params['g'] * 0.8, -quad_params['tau_max'])),\n",
    "    #     torch.tensor((quad_params['F_max'], quad_params['tau_max']))\n",
    "    # ),\n",
    "    'u_range': (\n",
    "        torch.tensor((quad_params['g'] * 0.9, -quad_params['tau_max'])),\n",
    "        torch.tensor((quad_params['g'] * 1.1, quad_params['tau_max']))\n",
    "    ),\n",
    "    'obs_noise_std': 0.,\n",
    "    # 'dt': 1e-2\n",
    "    'dt': 1e-2\n",
    "}\n",
    "\n",
    "training_params = {\n",
    "    'hidden_dims': [32],\n",
    "    'batch_size': 128,\n",
    "    'num_epochs': 20,\n",
    "    'learning_rate': 4e-3,\n",
    "}\n",
    "\n",
    "open_loop_sim_params = {\n",
    "    'dt': 1e-2,\n",
    "    'Tref': 14.0,\n",
    "    'ellipse_axes': [1, 1],\n",
    "    'lemniscate_axes': [1, 0.6],\n",
    "    'ref_ang_vel': np.pi / 7\n",
    "}\n",
    "\n",
    "closed_loop_sim_params = {\n",
    "    'dt': 1e-2,\n",
    "    'Tref': 14.0,\n",
    "    'ellipse_axes': [1, 1],\n",
    "    'lemniscate_axes': [1, 0.6],\n",
    "    'ref_ang_vel': np.pi / 7,\n",
    "    'obs_noise_std': 1e-3,\n",
    "    'u_noise_std': torch.tensor([1e-2, 1e-3]),\n",
    "    'controller_gain': np.array([0.9, 0.91, 0.92, 0.93]),\n",
    "    'observer_gain': np.array([0.45, 0.55, 0.4, 0.5])\n",
    "}"
   ]
  },
  {
   "cell_type": "code",
   "execution_count": 4,
   "id": "bbd48976-e4b3-4e5c-a056-4dc79c66a476",
   "metadata": {},
   "outputs": [],
   "source": [
    "seed = 1\n",
    "nominal_dynamics = PlanarQuadDynamics(**quad_params)\n",
    "true_dynamics = PlanarQuadDynamicsWithDrag(**quad_params)\n",
    "# rm = exp_utils.train_models(seed, quad_params, data_params, training_params)\n",
    "residual_model = exp_utils.load_model(f'./models/residual_model_{seed}.pth', training_params)"
   ]
  },
  {
   "cell_type": "code",
   "execution_count": 103,
   "id": "5470e6bc-442b-4efe-919f-24df4db8ca55",
   "metadata": {},
   "outputs": [],
   "source": [
    "# ref = evaluation.generate_ellipse_reference(\n",
    "#     open_loop_sim_params['ellipse_axes'],\n",
    "#     open_loop_sim_params['dt'],\n",
    "#     open_loop_sim_params['Tref'],\n",
    "#     open_loop_sim_params['ref_ang_vel']\n",
    "# )\n",
    "ref = evaluation.generate_lemniscate_reference(\n",
    "    open_loop_sim_params['lemniscate_axes'],\n",
    "    open_loop_sim_params['dt'],\n",
    "    open_loop_sim_params['Tref'],\n",
    "    open_loop_sim_params['ref_ang_vel']\n",
    ")"
   ]
  },
  {
   "cell_type": "code",
   "execution_count": 14,
   "id": "5470aef4-3aa5-493c-81ca-f78cb49eca88",
   "metadata": {},
   "outputs": [],
   "source": [
    "class FakeResidual(nn.Module):\n",
    "    def __init__(self, quad_params):\n",
    "        super().__init__()\n",
    "        self.true_dynamics =  PlanarQuadDynamicsWithDrag(**quad_params)\n",
    "\n",
    "    def forward(self, x):\n",
    "        res = torch.cat((torch.zeros_like(x), torch.zeros_like(x[..., :2])), dim=-1)\n",
    "        res[..., 2:4] += self.true_dynamics.drag(\n",
    "            torch.cat((x, torch.zeros_like(x[..., :2])), dim=-1)\n",
    "        )\n",
    "        return res\n",
    "fr = FakeResidual(quad_params)"
   ]
  },
  {
   "cell_type": "code",
   "execution_count": 201,
   "id": "b559ca03-b6f5-485b-8ffd-0f63b5392e93",
   "metadata": {},
   "outputs": [],
   "source": [
    "nominal_flat_ctrl = flatness.FlatnessController(\n",
    "    None, quad_params, ref.numpy(), None, None, open_loop_sim_params['dt']\n",
    ")\n",
    "learned_flat_ctrl = flatness.FlatnessController(\n",
    "    residual_model, quad_params, ref.numpy(), None, None, open_loop_sim_params['dt']\n",
    ")\n",
    "true_flat_ctrl = flatness.FlatnessController(\n",
    "    FakeResidual(quad_params), quad_params, ref.numpy(), None, None, open_loop_sim_params['dt']\n",
    ")"
   ]
  },
  {
   "cell_type": "code",
   "execution_count": null,
   "id": "db18e3e1-0d2b-4d32-823e-afba0a89813f",
   "metadata": {},
   "outputs": [],
   "source": []
  },
  {
   "cell_type": "code",
   "execution_count": 215,
   "id": "72feac5c-2aa0-4a0c-8f3c-cff8d416ed8a",
   "metadata": {},
   "outputs": [],
   "source": [
    "ctrl = nominal_flat_ctrl"
   ]
  },
  {
   "cell_type": "code",
   "execution_count": 216,
   "id": "01b6f757-129a-4414-99b1-14359d481445",
   "metadata": {},
   "outputs": [],
   "source": [
    "i = np.random.randint(ref.shape[0])"
   ]
  },
  {
   "cell_type": "code",
   "execution_count": 217,
   "id": "8b326a94-ae33-4c21-88e4-9d3aa9f066c0",
   "metadata": {},
   "outputs": [],
   "source": [
    "dt = 1e-4\n",
    "z = ref[i:i+1, :8]\n",
    "v = ref[i:i+1, 8:]\n",
    "dz = dt * ref[i:i+1, 2:]"
   ]
  },
  {
   "cell_type": "code",
   "execution_count": 218,
   "id": "a3ec1cd4-3171-4e41-b599-8f6d2735dc36",
   "metadata": {},
   "outputs": [],
   "source": [
    "xf = ctrl.z2x_model(z, v)\n",
    "uf = ctrl.z2u_model(z, v)\n",
    "x_dot, u_sat = true_dynamics.dot_fn(torch.tensor(xf), torch.tensor(uf))\n",
    "\n",
    "dx = ctrl.z2x_model(z + dz, v)\n",
    "dxdt = (dx - xf) / dt"
   ]
  },
  {
   "cell_type": "code",
   "execution_count": 219,
   "id": "401d368d-e9c6-4ff4-8005-9a73aa412ac2",
   "metadata": {},
   "outputs": [],
   "source": [
    "np.set_printoptions(precision=3)"
   ]
  },
  {
   "cell_type": "code",
   "execution_count": 220,
   "id": "7326f360-e637-4c3d-9088-bc5c61a3379b",
   "metadata": {
    "scrolled": true
   },
   "outputs": [
    {
     "data": {
      "text/plain": [
       "array([[-0.324, -0.086,  0.133, -0.087,  0.002,  0.023]], dtype=float32)"
      ]
     },
     "execution_count": 220,
     "metadata": {},
     "output_type": "execute_result"
    }
   ],
   "source": [
    "x_dot.numpy()"
   ]
  },
  {
   "cell_type": "code",
   "execution_count": 221,
   "id": "5809f2c0-7176-460c-8146-9b7c8b94a8d4",
   "metadata": {},
   "outputs": [
    {
     "data": {
      "text/plain": [
       "array([[-0.324, -0.086,  0.119, -0.09 ,  0.002,  0.023]], dtype=float32)"
      ]
     },
     "execution_count": 221,
     "metadata": {},
     "output_type": "execute_result"
    }
   ],
   "source": [
    "dxdt"
   ]
  },
  {
   "cell_type": "code",
   "execution_count": 86,
   "id": "a11c29f7-3f1e-4c18-a0e4-c00163b77449",
   "metadata": {},
   "outputs": [
    {
     "data": {
      "text/plain": [
       "array([[-1.062e-04,  3.435e-05, -1.130e-04,  2.065e-05, -2.006e-04,\n",
       "         1.816e-04]], dtype=float32)"
      ]
     },
     "execution_count": 86,
     "metadata": {},
     "output_type": "execute_result"
    }
   ],
   "source": [
    "x_dot.numpy() - dxdt"
   ]
  },
  {
   "cell_type": "code",
   "execution_count": 309,
   "id": "66d83f1d-8548-412c-ac15-553745a72296",
   "metadata": {},
   "outputs": [],
   "source": [
    "true_x0 = torch.tensor(true_flat_ctrl.z2x_model(*torch.split(ref[:1], 8, dim=-1)))\n",
    "nominal_u = torch.tensor(nominal_flat_ctrl.z2u_model(*torch.split(ref, 8, dim=-1)))\n",
    "learned_u = torch.tensor(learned_flat_ctrl.z2u_model(*torch.split(ref, 8, dim=-1)))\n",
    "true_u = torch.tensor(true_flat_ctrl.z2u_model(*torch.split(ref, 8, dim=-1)))"
   ]
  },
  {
   "cell_type": "code",
   "execution_count": 310,
   "id": "df7e60a6-380a-4f06-831c-9512d712f1cd",
   "metadata": {},
   "outputs": [
    {
     "data": {
      "image/png": "[encoded data removed]",
      "text/plain": [
       "<Figure size 864x576 with 2 Axes>"
      ]
     },
     "metadata": {
      "needs_background": "light"
     },
     "output_type": "display_data"
    }
   ],
   "source": [
    "plt.figure(figsize=(12, 8))\n",
    "for i in range(2):\n",
    "    plt.subplot(1, 2, i+1)\n",
    "    plt.plot(true_u[:, i], label='true')\n",
    "    plt.plot(nominal_u[:, i], label='nominal')\n",
    "    plt.plot(learned_u[:, i], label='learned')\n",
    "    plt.legend()"
   ]
  },
  {
   "cell_type": "code",
   "execution_count": null,
   "id": "97655f97-1814-4bc2-9c33-e7b9097d404f",
   "metadata": {},
   "outputs": [],
   "source": []
  },
  {
   "cell_type": "code",
   "execution_count": null,
   "id": "b44a5b18-306d-40fe-b3b4-8bd4d18a4d82",
   "metadata": {},
   "outputs": [],
   "source": []
  },
  {
   "cell_type": "code",
   "execution_count": null,
   "id": "cb9ed219-6f71-427c-b39e-b63bd8316aaa",
   "metadata": {},
   "outputs": [],
   "source": []
  },
  {
   "cell_type": "code",
   "execution_count": null,
   "id": "4d211247-fcfc-4013-854c-342d34390f87",
   "metadata": {},
   "outputs": [],
   "source": []
  },
  {
   "cell_type": "code",
   "execution_count": null,
   "id": "5faef619-5e0f-4806-bc6c-3b2c75eec5cf",
   "metadata": {},
   "outputs": [],
   "source": []
  },
  {
   "cell_type": "code",
   "execution_count": null,
   "id": "305f6ec7-f12b-4cb4-bbaa-9478cbd3f426",
   "metadata": {},
   "outputs": [],
   "source": []
  },
  {
   "cell_type": "code",
   "execution_count": null,
   "id": "eac6f4e6-8e9b-4427-bcc1-25a146222136",
   "metadata": {},
   "outputs": [],
   "source": []
  },
  {
   "cell_type": "code",
   "execution_count": null,
   "id": "42ff3dd7-fe03-4330-b206-cb6bb7b3c327",
   "metadata": {},
   "outputs": [],
   "source": []
  },
  {
   "cell_type": "code",
   "execution_count": null,
   "id": "b125dd9a-06ad-4fc8-a38d-d3790a888faa",
   "metadata": {},
   "outputs": [],
   "source": []
  }
 ],
 "metadata": {
  "kernelspec": {
   "display_name": "general",
   "language": "python",
   "name": "general"
  },
  "language_info": {
   "codemirror_mode": {
    "name": "ipython",
    "version": 3
   },
   "file_extension": ".py",
   "mimetype": "text/x-python",
   "name": "python",
   "nbconvert_exporter": "python",
   "pygments_lexer": "ipython3",
   "version": "3.8.10"
  }
 },
 "nbformat": 4,
 "nbformat_minor": 5
}
